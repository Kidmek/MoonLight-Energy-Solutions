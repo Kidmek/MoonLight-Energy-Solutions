{
 "cells": [
  {
   "cell_type": "code",
   "execution_count": 6,
   "metadata": {},
   "outputs": [
    {
     "ename": "ImportError",
     "evalue": "cannot import name 'data_loading' from 'scripts' (unknown location)",
     "output_type": "error",
     "traceback": [
      "\u001b[1;31m---------------------------------------------------------------------------\u001b[0m",
      "\u001b[1;31mImportError\u001b[0m                               Traceback (most recent call last)",
      "Cell \u001b[1;32mIn[6], line 1\u001b[0m\n\u001b[1;32m----> 1\u001b[0m \u001b[38;5;28;01mfrom\u001b[39;00m \u001b[38;5;21;01mscripts\u001b[39;00m \u001b[38;5;28;01mimport\u001b[39;00m data_loading \n\u001b[0;32m      4\u001b[0m data \u001b[38;5;241m=\u001b[39m data_loading\u001b[38;5;241m.\u001b[39mload_data()\n\u001b[0;32m      6\u001b[0m summary_stats \u001b[38;5;241m=\u001b[39m data\u001b[38;5;241m.\u001b[39mdescribe()\n",
      "\u001b[1;31mImportError\u001b[0m: cannot import name 'data_loading' from 'scripts' (unknown location)"
     ]
    }
   ],
   "source": [
    "from scripts import data_loading \n",
    "\n",
    "\n",
    "data = data_loading.load_data()\n",
    "\n",
    "summary_stats = data.describe()\n",
    "display(summary_stats)"
   ]
  },
  {
   "cell_type": "markdown",
   "metadata": {},
   "source": []
  }
 ],
 "metadata": {
  "kernelspec": {
   "display_name": ".venv",
   "language": "python",
   "name": "python3"
  },
  "language_info": {
   "codemirror_mode": {
    "name": "ipython",
    "version": 3
   },
   "file_extension": ".py",
   "mimetype": "text/x-python",
   "name": "python",
   "nbconvert_exporter": "python",
   "pygments_lexer": "ipython3",
   "version": "3.10.7"
  }
 },
 "nbformat": 4,
 "nbformat_minor": 2
}
